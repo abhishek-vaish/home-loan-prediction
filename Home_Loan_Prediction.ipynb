{
  "nbformat": 4,
  "nbformat_minor": 0,
  "metadata": {
    "colab": {
      "name": "Home_Loan_Prediction",
      "provenance": [],
      "collapsed_sections": [],
      "toc_visible": true,
      "mount_file_id": "1LCjnUtKBtVmWclLGOST-KZM4p5Cx0jA5",
      "authorship_tag": "ABX9TyMt807f2Q4snuMIfE2IWjt/",
      "include_colab_link": true
    },
    "kernelspec": {
      "name": "python3",
      "display_name": "Python 3"
    }
  },
  "cells": [
    {
      "cell_type": "markdown",
      "metadata": {
        "id": "view-in-github",
        "colab_type": "text"
      },
      "source": [
        "<a href=\"https://colab.research.google.com/github/abhishekv5055/home-loan-prediction/blob/master/Home_Loan_Prediction.ipynb\" target=\"_parent\"><img src=\"https://colab.research.google.com/assets/colab-badge.svg\" alt=\"Open In Colab\"/></a>"
      ]
    },
    {
      "cell_type": "markdown",
      "metadata": {
        "id": "88AwRVEn0pyW"
      },
      "source": [
        "# 🏠Home Loan Prediction\r\n",
        "This notebook contains the eligibility of the customer to get a home loan from the company called `Dreaming Loan Housing Finance`. This company wants to automate this procedure of selecting the customer that are eligible for getting the home loan.\r\n",
        "\r\n",
        "**This is a Analytics Vidhya Hackathons problem. The score is based on the Evaluation Metrics i.e. Accuracy.**\r\n",
        "\r\n",
        "For this particular problem we perform:\r\n",
        "* Defining problem statement\r\n",
        "* Understand the Dataset\r\n",
        "* Evaluate the Dataset\r\n",
        "* Perform Feature Engineering \r\n",
        "* Define the machine learning model\r\n",
        "* Perform the Experiments\r\n",
        "\r\n",
        "So, first we understand the problem by defining the problem statement provided in the competition.\r\n",
        "\r\n",
        "## Problem Statement\r\n",
        "Dream Housing Finance company deals in all kinds of home loans. They have presence across all urban, semi urban and rural areas. Customer first applies for home loan and after that company validates the customer eligibility for loan.\r\n",
        "\r\n",
        "Company wants to automate the loan eligibility process (real time) based on customer detail provided while filling online application form. These details are Gender, Marital Status, Education, Number of Dependents, Income, Loan Amount, Credit History and others. To automate this process, they have provided a dataset to identify the customers segments that are eligible for loan amount so that they can specifically target these customers. \r\n",
        "\r\n",
        "## Understand the Dataset\r\n",
        "While moving forward to design the machine learning model or make our data ready for train the machine learning model, first we understand the keywords used in the dataset for defining the lables and the features.\r\n",
        "### Data Dictionary\r\n",
        "* Loan_ID -\tUnique Loan ID\r\n",
        "* Gender -\tMale/ Female\r\n",
        "* Married -\tApplicant married (Y/N)\r\n",
        "* Dependents -\tNumber of dependents\r\n",
        "* Education -\tApplicant Education (Graduate/ Under Graduate)\r\n",
        "* Self_Employed -\tSelf employed (Y/N)\r\n",
        "* ApplicantIncome -\tApplicant income\r\n",
        "* CoapplicantIncome -\tCoapplicant income\r\n",
        "* LoanAmount -\tLoan amount in thousands\r\n",
        "* Loan_Amount_Term -\tTerm of loan in months\r\n",
        "* Credit_History -\tcredit history meets guidelines\r\n",
        "* Property_Area -\tUrban/ Semi Urban/ Rural\r\n",
        "* Loan_Status -\t(Target) Loan approved (Y/N)\r\n",
        "\r\n",
        "Now lets perform some evaluation to find the relation between the labels and feature. So, move forward and perform the `Exploratory Data Analysis or (EDA)`.\r\n",
        "\r\n",
        "## Evaluation over the Dataset"
      ]
    },
    {
      "cell_type": "code",
      "metadata": {
        "id": "ZJjvFTFY1n0A"
      },
      "source": [
        "# import all the required evaluation libraries\r\n",
        "import pandas as pd\r\n",
        "import numpy as np\r\n",
        "import matplotlib.pyplot as plt\r\n",
        "%matplotlib inline"
      ],
      "execution_count": 2,
      "outputs": []
    },
    {
      "cell_type": "code",
      "metadata": {
        "id": "FopGw0X21qul",
        "colab": {
          "base_uri": "https://localhost:8080/",
          "height": 232
        },
        "outputId": "73cf4afc-346d-4c96-d515-6247bf4be5df"
      },
      "source": [
        "# Load the training dataset\r\n",
        "train_df = pd.read_csv(\"/content/drive/MyDrive/Home Loan Prediction/home-loan-train.csv\")\r\n",
        "train_df.head()"
      ],
      "execution_count": 3,
      "outputs": [
        {
          "output_type": "execute_result",
          "data": {
            "text/html": [
              "<div>\n",
              "<style scoped>\n",
              "    .dataframe tbody tr th:only-of-type {\n",
              "        vertical-align: middle;\n",
              "    }\n",
              "\n",
              "    .dataframe tbody tr th {\n",
              "        vertical-align: top;\n",
              "    }\n",
              "\n",
              "    .dataframe thead th {\n",
              "        text-align: right;\n",
              "    }\n",
              "</style>\n",
              "<table border=\"1\" class=\"dataframe\">\n",
              "  <thead>\n",
              "    <tr style=\"text-align: right;\">\n",
              "      <th></th>\n",
              "      <th>Loan_ID</th>\n",
              "      <th>Gender</th>\n",
              "      <th>Married</th>\n",
              "      <th>Dependents</th>\n",
              "      <th>Education</th>\n",
              "      <th>Self_Employed</th>\n",
              "      <th>ApplicantIncome</th>\n",
              "      <th>CoapplicantIncome</th>\n",
              "      <th>LoanAmount</th>\n",
              "      <th>Loan_Amount_Term</th>\n",
              "      <th>Credit_History</th>\n",
              "      <th>Property_Area</th>\n",
              "      <th>Loan_Status</th>\n",
              "    </tr>\n",
              "  </thead>\n",
              "  <tbody>\n",
              "    <tr>\n",
              "      <th>0</th>\n",
              "      <td>LP001002</td>\n",
              "      <td>Male</td>\n",
              "      <td>No</td>\n",
              "      <td>0</td>\n",
              "      <td>Graduate</td>\n",
              "      <td>No</td>\n",
              "      <td>5849</td>\n",
              "      <td>0.0</td>\n",
              "      <td>NaN</td>\n",
              "      <td>360.0</td>\n",
              "      <td>1.0</td>\n",
              "      <td>Urban</td>\n",
              "      <td>Y</td>\n",
              "    </tr>\n",
              "    <tr>\n",
              "      <th>1</th>\n",
              "      <td>LP001003</td>\n",
              "      <td>Male</td>\n",
              "      <td>Yes</td>\n",
              "      <td>1</td>\n",
              "      <td>Graduate</td>\n",
              "      <td>No</td>\n",
              "      <td>4583</td>\n",
              "      <td>1508.0</td>\n",
              "      <td>128.0</td>\n",
              "      <td>360.0</td>\n",
              "      <td>1.0</td>\n",
              "      <td>Rural</td>\n",
              "      <td>N</td>\n",
              "    </tr>\n",
              "    <tr>\n",
              "      <th>2</th>\n",
              "      <td>LP001005</td>\n",
              "      <td>Male</td>\n",
              "      <td>Yes</td>\n",
              "      <td>0</td>\n",
              "      <td>Graduate</td>\n",
              "      <td>Yes</td>\n",
              "      <td>3000</td>\n",
              "      <td>0.0</td>\n",
              "      <td>66.0</td>\n",
              "      <td>360.0</td>\n",
              "      <td>1.0</td>\n",
              "      <td>Urban</td>\n",
              "      <td>Y</td>\n",
              "    </tr>\n",
              "    <tr>\n",
              "      <th>3</th>\n",
              "      <td>LP001006</td>\n",
              "      <td>Male</td>\n",
              "      <td>Yes</td>\n",
              "      <td>0</td>\n",
              "      <td>Not Graduate</td>\n",
              "      <td>No</td>\n",
              "      <td>2583</td>\n",
              "      <td>2358.0</td>\n",
              "      <td>120.0</td>\n",
              "      <td>360.0</td>\n",
              "      <td>1.0</td>\n",
              "      <td>Urban</td>\n",
              "      <td>Y</td>\n",
              "    </tr>\n",
              "    <tr>\n",
              "      <th>4</th>\n",
              "      <td>LP001008</td>\n",
              "      <td>Male</td>\n",
              "      <td>No</td>\n",
              "      <td>0</td>\n",
              "      <td>Graduate</td>\n",
              "      <td>No</td>\n",
              "      <td>6000</td>\n",
              "      <td>0.0</td>\n",
              "      <td>141.0</td>\n",
              "      <td>360.0</td>\n",
              "      <td>1.0</td>\n",
              "      <td>Urban</td>\n",
              "      <td>Y</td>\n",
              "    </tr>\n",
              "  </tbody>\n",
              "</table>\n",
              "</div>"
            ],
            "text/plain": [
              "    Loan_ID Gender Married  ... Credit_History Property_Area Loan_Status\n",
              "0  LP001002   Male      No  ...            1.0         Urban           Y\n",
              "1  LP001003   Male     Yes  ...            1.0         Rural           N\n",
              "2  LP001005   Male     Yes  ...            1.0         Urban           Y\n",
              "3  LP001006   Male     Yes  ...            1.0         Urban           Y\n",
              "4  LP001008   Male      No  ...            1.0         Urban           Y\n",
              "\n",
              "[5 rows x 13 columns]"
            ]
          },
          "metadata": {
            "tags": []
          },
          "execution_count": 3
        }
      ]
    },
    {
      "cell_type": "code",
      "metadata": {
        "colab": {
          "base_uri": "https://localhost:8080/",
          "height": 284
        },
        "id": "UKQPO4xDfjYB",
        "outputId": "51682131-e16e-4d75-c4ef-df93f191dd4f"
      },
      "source": [
        "train_df.describe()"
      ],
      "execution_count": 4,
      "outputs": [
        {
          "output_type": "execute_result",
          "data": {
            "text/html": [
              "<div>\n",
              "<style scoped>\n",
              "    .dataframe tbody tr th:only-of-type {\n",
              "        vertical-align: middle;\n",
              "    }\n",
              "\n",
              "    .dataframe tbody tr th {\n",
              "        vertical-align: top;\n",
              "    }\n",
              "\n",
              "    .dataframe thead th {\n",
              "        text-align: right;\n",
              "    }\n",
              "</style>\n",
              "<table border=\"1\" class=\"dataframe\">\n",
              "  <thead>\n",
              "    <tr style=\"text-align: right;\">\n",
              "      <th></th>\n",
              "      <th>ApplicantIncome</th>\n",
              "      <th>CoapplicantIncome</th>\n",
              "      <th>LoanAmount</th>\n",
              "      <th>Loan_Amount_Term</th>\n",
              "      <th>Credit_History</th>\n",
              "    </tr>\n",
              "  </thead>\n",
              "  <tbody>\n",
              "    <tr>\n",
              "      <th>count</th>\n",
              "      <td>614.000000</td>\n",
              "      <td>614.000000</td>\n",
              "      <td>592.000000</td>\n",
              "      <td>600.00000</td>\n",
              "      <td>564.000000</td>\n",
              "    </tr>\n",
              "    <tr>\n",
              "      <th>mean</th>\n",
              "      <td>5403.459283</td>\n",
              "      <td>1621.245798</td>\n",
              "      <td>146.412162</td>\n",
              "      <td>342.00000</td>\n",
              "      <td>0.842199</td>\n",
              "    </tr>\n",
              "    <tr>\n",
              "      <th>std</th>\n",
              "      <td>6109.041673</td>\n",
              "      <td>2926.248369</td>\n",
              "      <td>85.587325</td>\n",
              "      <td>65.12041</td>\n",
              "      <td>0.364878</td>\n",
              "    </tr>\n",
              "    <tr>\n",
              "      <th>min</th>\n",
              "      <td>150.000000</td>\n",
              "      <td>0.000000</td>\n",
              "      <td>9.000000</td>\n",
              "      <td>12.00000</td>\n",
              "      <td>0.000000</td>\n",
              "    </tr>\n",
              "    <tr>\n",
              "      <th>25%</th>\n",
              "      <td>2877.500000</td>\n",
              "      <td>0.000000</td>\n",
              "      <td>100.000000</td>\n",
              "      <td>360.00000</td>\n",
              "      <td>1.000000</td>\n",
              "    </tr>\n",
              "    <tr>\n",
              "      <th>50%</th>\n",
              "      <td>3812.500000</td>\n",
              "      <td>1188.500000</td>\n",
              "      <td>128.000000</td>\n",
              "      <td>360.00000</td>\n",
              "      <td>1.000000</td>\n",
              "    </tr>\n",
              "    <tr>\n",
              "      <th>75%</th>\n",
              "      <td>5795.000000</td>\n",
              "      <td>2297.250000</td>\n",
              "      <td>168.000000</td>\n",
              "      <td>360.00000</td>\n",
              "      <td>1.000000</td>\n",
              "    </tr>\n",
              "    <tr>\n",
              "      <th>max</th>\n",
              "      <td>81000.000000</td>\n",
              "      <td>41667.000000</td>\n",
              "      <td>700.000000</td>\n",
              "      <td>480.00000</td>\n",
              "      <td>1.000000</td>\n",
              "    </tr>\n",
              "  </tbody>\n",
              "</table>\n",
              "</div>"
            ],
            "text/plain": [
              "       ApplicantIncome  CoapplicantIncome  ...  Loan_Amount_Term  Credit_History\n",
              "count       614.000000         614.000000  ...         600.00000      564.000000\n",
              "mean       5403.459283        1621.245798  ...         342.00000        0.842199\n",
              "std        6109.041673        2926.248369  ...          65.12041        0.364878\n",
              "min         150.000000           0.000000  ...          12.00000        0.000000\n",
              "25%        2877.500000           0.000000  ...         360.00000        1.000000\n",
              "50%        3812.500000        1188.500000  ...         360.00000        1.000000\n",
              "75%        5795.000000        2297.250000  ...         360.00000        1.000000\n",
              "max       81000.000000       41667.000000  ...         480.00000        1.000000\n",
              "\n",
              "[8 rows x 5 columns]"
            ]
          },
          "metadata": {
            "tags": []
          },
          "execution_count": 4
        }
      ]
    },
    {
      "cell_type": "code",
      "metadata": {
        "colab": {
          "base_uri": "https://localhost:8080/"
        },
        "id": "UBE0DFBagWjX",
        "outputId": "a896c99d-e578-4583-f377-9bb35bb1ad21"
      },
      "source": [
        "train_df.info()"
      ],
      "execution_count": 5,
      "outputs": [
        {
          "output_type": "stream",
          "text": [
            "<class 'pandas.core.frame.DataFrame'>\n",
            "RangeIndex: 614 entries, 0 to 613\n",
            "Data columns (total 13 columns):\n",
            " #   Column             Non-Null Count  Dtype  \n",
            "---  ------             --------------  -----  \n",
            " 0   Loan_ID            614 non-null    object \n",
            " 1   Gender             601 non-null    object \n",
            " 2   Married            611 non-null    object \n",
            " 3   Dependents         599 non-null    object \n",
            " 4   Education          614 non-null    object \n",
            " 5   Self_Employed      582 non-null    object \n",
            " 6   ApplicantIncome    614 non-null    int64  \n",
            " 7   CoapplicantIncome  614 non-null    float64\n",
            " 8   LoanAmount         592 non-null    float64\n",
            " 9   Loan_Amount_Term   600 non-null    float64\n",
            " 10  Credit_History     564 non-null    float64\n",
            " 11  Property_Area      614 non-null    object \n",
            " 12  Loan_Status        614 non-null    object \n",
            "dtypes: float64(4), int64(1), object(8)\n",
            "memory usage: 62.5+ KB\n"
          ],
          "name": "stdout"
        }
      ]
    },
    {
      "cell_type": "code",
      "metadata": {
        "colab": {
          "base_uri": "https://localhost:8080/"
        },
        "id": "fEWVWjrwhDz4",
        "outputId": "dabb5c24-4623-4c4f-cfab-84868135cf29"
      },
      "source": [
        "train_df.isna().sum()"
      ],
      "execution_count": 6,
      "outputs": [
        {
          "output_type": "execute_result",
          "data": {
            "text/plain": [
              "Loan_ID               0\n",
              "Gender               13\n",
              "Married               3\n",
              "Dependents           15\n",
              "Education             0\n",
              "Self_Employed        32\n",
              "ApplicantIncome       0\n",
              "CoapplicantIncome     0\n",
              "LoanAmount           22\n",
              "Loan_Amount_Term     14\n",
              "Credit_History       50\n",
              "Property_Area         0\n",
              "Loan_Status           0\n",
              "dtype: int64"
            ]
          },
          "metadata": {
            "tags": []
          },
          "execution_count": 6
        }
      ]
    },
    {
      "cell_type": "code",
      "metadata": {
        "id": "iD6E7eoThN-y"
      },
      "source": [
        "# Lets create a list of all the column that have an empty rows\r\n",
        "empty_list = [name for name in train_df.columns if train_df[name].isna().sum() != 0]"
      ],
      "execution_count": 7,
      "outputs": []
    },
    {
      "cell_type": "code",
      "metadata": {
        "colab": {
          "base_uri": "https://localhost:8080/"
        },
        "id": "h6f5fljXhmoA",
        "outputId": "0a0b83d5-8fb6-4b86-fc3e-0a8e58fbaefa"
      },
      "source": [
        "empty_list"
      ],
      "execution_count": 8,
      "outputs": [
        {
          "output_type": "execute_result",
          "data": {
            "text/plain": [
              "['Gender',\n",
              " 'Married',\n",
              " 'Dependents',\n",
              " 'Self_Employed',\n",
              " 'LoanAmount',\n",
              " 'Loan_Amount_Term',\n",
              " 'Credit_History']"
            ]
          },
          "metadata": {
            "tags": []
          },
          "execution_count": 8
        }
      ]
    },
    {
      "cell_type": "markdown",
      "metadata": {
        "id": "Dw4y6L3ahrEI"
      },
      "source": [
        "So, first lets create a bar graph for the gender column and find how many amle and feamle candidate apply for the home loan"
      ]
    },
    {
      "cell_type": "code",
      "metadata": {
        "colab": {
          "base_uri": "https://localhost:8080/",
          "height": 281
        },
        "id": "S_f8k8t3iIVW",
        "outputId": "1fb64d12-b664-4465-f994-53d813d5ade3"
      },
      "source": [
        "plt.bar(train_df['Gender'].unique()[:2], train_df['Gender'].value_counts());\r\n",
        "plt.title(\"Gender vs Frequency Graph\");"
      ],
      "execution_count": 9,
      "outputs": [
        {
          "output_type": "display_data",
          "data": {
            "image/png": "[encoded data removed]",
            "text/plain": [
              "<Figure size 432x288 with 1 Axes>"
            ]
          },
          "metadata": {
            "tags": [],
            "needs_background": "light"
          }
        }
      ]
    },
    {
      "cell_type": "markdown",
      "metadata": {
        "id": "z4b_dkTzjN-e"
      },
      "source": [
        "As expected, male gender are more applicant that apply for the home loan. Do you know the reason behind this fact?\r\n",
        "\r\n",
        "Lets create a function for ploting the graph between the different labels that help us to make the prediction more easily."
      ]
    },
    {
      "cell_type": "code",
      "metadata": {
        "id": "pDg1oc57iM33"
      },
      "source": [
        "def ploty(x_data=None, y_data=None, title=None, x_label = None, y_label=None):\r\n",
        "  \"\"\"\r\n",
        "  This is used to plot the bar graph between the x_data and the y_data\r\n",
        "  \"\"\"\r\n",
        "  # define the bar graph\r\n",
        "  plt.bar(x_data, y_data)\r\n",
        "  # define the title\r\n",
        "  plt.title(title)\r\n",
        "  # define the x-label\r\n",
        "  plt.xlabel(x_label)\r\n",
        "  # define the y-label\r\n",
        "  plt.ylabel(y_label)\r\n",
        "  "
      ],
      "execution_count": 10,
      "outputs": []
    },
    {
      "cell_type": "code",
      "metadata": {
        "colab": {
          "base_uri": "https://localhost:8080/",
          "height": 295
        },
        "id": "-0ETDdX2jkYi",
        "outputId": "fb2c37df-831e-4060-ae88-c3642414d87e"
      },
      "source": [
        "# Lets plot the graph between the married applicant with their frequency\r\n",
        "ploty(x_data = train_df[\"Married\"].unique()[:2], \r\n",
        "      y_data = np.sort(train_df['Married'].value_counts()),\r\n",
        "      title=\"Married label vs Frequency Graph\",\r\n",
        "      x_label = \"Married Status\",\r\n",
        "      y_label = \"Frequnecy\")"
      ],
      "execution_count": 11,
      "outputs": [
        {
          "output_type": "display_data",
          "data": {
            "image/png": "[encoded data removed]",
            "text/plain": [
              "<Figure size 432x288 with 1 Axes>"
            ]
          },
          "metadata": {
            "tags": [],
            "needs_background": "light"
          }
        }
      ]
    },
    {
      "cell_type": "markdown",
      "metadata": {
        "id": "v_ObxkS9m0nc"
      },
      "source": [
        "Most of the customer that apply for the home loan are the one that were married. They can be the one who loss their job or it can be,they have more number of dependents members in the family. What do you think about this prediction from the graph?\r\n",
        "\r\n",
        "Now, lets plot the graph between the dependent label, Married label and the gender labels and predict the relation between these three labels using the bar graph.\r\n",
        "\r\n",
        "**Here Dependents label describe the number of dependent family members they have that are totaly depend on their income.**"
      ]
    },
    {
      "cell_type": "code",
      "metadata": {
        "colab": {
          "base_uri": "https://localhost:8080/",
          "height": 285
        },
        "id": "iHEu8qhgm99Z",
        "outputId": "84170d68-f307-4162-9298-0c94c2682f25"
      },
      "source": [
        "married_dependent_df = pd.crosstab(train_df['Married'], train_df['Dependents'])\r\n",
        "married_dependent_df.plot.bar()\r\n",
        "plt.ylabel('Frequency');"
      ],
      "execution_count": 12,
      "outputs": [
        {
          "output_type": "display_data",
          "data": {
            "image/png": "[encoded data removed]",
            "text/plain": [
              "<Figure size 432x288 with 1 Axes>"
            ]
          },
          "metadata": {
            "tags": [],
            "needs_background": "light"
          }
        }
      ]
    },
    {
      "cell_type": "markdown",
      "metadata": {
        "id": "6TOcu_glolrK"
      },
      "source": [
        "In all the four categories of dependents, Married one are applying for the home loan as they have more number of depedent family members and also the person that dont have any dependent memebers and are married their number is maximum in the graph. What do you think, weather they are applying for the home loans because of the dependent member in the family or thier could be any other reason?\r\n",
        "\r\n",
        "Lets make the prediction using the `Education` Label and findout what is eduction qualification of the applicant that are applying for the home loan."
      ]
    },
    {
      "cell_type": "code",
      "metadata": {
        "colab": {
          "base_uri": "https://localhost:8080/",
          "height": 281
        },
        "id": "4MltacwWp4NO",
        "outputId": "26709a1d-bdc0-4952-da45-804ee2afd013"
      },
      "source": [
        "ploty(y_data = train_df['Education'].value_counts(),\r\n",
        "      x_data = train_df['Education'].unique(),\r\n",
        "      title='Education Graph',\r\n",
        "      y_label='Frequency')"
      ],
      "execution_count": 13,
      "outputs": [
        {
          "output_type": "display_data",
          "data": {
            "image/png": "[encoded data removed]",
            "text/plain": [
              "<Figure size 432x288 with 1 Axes>"
            ]
          },
          "metadata": {
            "tags": [],
            "needs_background": "light"
          }
        }
      ]
    },
    {
      "cell_type": "markdown",
      "metadata": {
        "id": "VjfeDHktrjvU"
      },
      "source": [
        "Mostly `Graduate` customer apply for the home loan. `Not Graduate` customer can be the person who doing the small business or they shift from one place to another. In terms of education qualification, what can be the reason that most of the educated person are applying for getting the home loan?\r\n",
        "\r\n",
        "Our next observation can be answer to the above problem that we are getting while making the prediction for the education qualification. Lets see the person that were self-employed and graduated are applying for the home loan or the other possible combination."
      ]
    },
    {
      "cell_type": "code",
      "metadata": {
        "colab": {
          "base_uri": "https://localhost:8080/",
          "height": 337
        },
        "id": "x22oad6orpDP",
        "outputId": "89ce7e98-326a-40e6-e8c7-52d8413fc813"
      },
      "source": [
        "pd.crosstab(train_df['Education'], train_df['Self_Employed']).plot.bar()\r\n",
        "plt.ylabel(\"No of Self-Employed\");"
      ],
      "execution_count": 14,
      "outputs": [
        {
          "output_type": "display_data",
          "data": {
            "image/png": "[encoded data removed]",
            "text/plain": [
              "<Figure size 432x288 with 1 Axes>"
            ]
          },
          "metadata": {
            "tags": [],
            "needs_background": "light"
          }
        }
      ]
    },
    {
      "cell_type": "code",
      "metadata": {
        "id": "tid58MYtr4AP",
        "colab": {
          "base_uri": "https://localhost:8080/",
          "height": 295
        },
        "outputId": "43331416-95e8-4a66-a20c-c2d88428e535"
      },
      "source": [
        "ploty(x_data=train_df['Self_Employed'].unique()[:2],\r\n",
        "      y_data=train_df['Self_Employed'].value_counts(),\r\n",
        "      x_label='Self Employed',\r\n",
        "      y_label='Frequency',\r\n",
        "      title='Self Employed Graph')"
      ],
      "execution_count": 15,
      "outputs": [
        {
          "output_type": "display_data",
          "data": {
            "image/png": "[encoded data removed]",
            "text/plain": [
              "<Figure size 432x288 with 1 Axes>"
            ]
          },
          "metadata": {
            "tags": [],
            "needs_background": "light"
          }
        }
      ]
    },
    {
      "cell_type": "markdown",
      "metadata": {
        "id": "rvDIrAWLr-jR"
      },
      "source": [
        "So, mostly the graduated customer that were not self-employed were applying for the home loan. And also from the `Self_Employed` graph we can see that mostly customer that were not self-employed apply for the application.\r\n",
        "\r\n",
        "Lets create a function for the numeric data to plot the `line graph` to understand the data and make prediction."
      ]
    },
    {
      "cell_type": "code",
      "metadata": {
        "id": "CY4PfiWfsCD2"
      },
      "source": [
        "def line_ploty(x_data, y_data, title=None, x_label=None, y_label=None):\r\n",
        "  \"\"\"\r\n",
        "  Plot the line graph between the x_data and the y_data for the numerical data\r\n",
        "  \"\"\"\r\n",
        "  plt.figure(figsize=(40, 10))\r\n",
        "  # define the line graph\r\n",
        "  plt.plot(x_data, y_data)\r\n",
        "  # define the title\r\n",
        "  plt.title(title)\r\n",
        "  # define the x-label\r\n",
        "  plt.xlabel(x_label)\r\n",
        "  # define the y-label\r\n",
        "  plt.ylabel(y_label)"
      ],
      "execution_count": 16,
      "outputs": []
    },
    {
      "cell_type": "markdown",
      "metadata": {
        "id": "55RTaSn0sI8d"
      },
      "source": [
        "Lets plot the graph for the `ApplicantIncome` label and check what is the income of the customer that are applying for the application."
      ]
    },
    {
      "cell_type": "code",
      "metadata": {
        "id": "BwjP1MghsoNn"
      },
      "source": [
        "def make_data_defination(data):\r\n",
        "  \"\"\"\r\n",
        "  This function converts the ApplicantIncome label into different section.\r\n",
        "  \"\"\"\r\n",
        "  if data in range(150, 1000):\r\n",
        "    return \"150-1000\"\r\n",
        "  if data in range(1000, 25000):\r\n",
        "    return \"1000-25000\"\r\n",
        "  if data in range(25000, 50000):\r\n",
        "    return \"25000-50000\"\r\n",
        "  if data in range(50000, 85000):\r\n",
        "    return \">85000\""
      ],
      "execution_count": 17,
      "outputs": []
    },
    {
      "cell_type": "code",
      "metadata": {
        "colab": {
          "base_uri": "https://localhost:8080/",
          "height": 295
        },
        "id": "XUKZ5LSt_vKM",
        "outputId": "18d59fd8-63a4-4cff-d8ba-628057231c74"
      },
      "source": [
        "train_df['ApplicantIncome'].apply(make_data_defination).value_counts().plot(kind='line');\r\n",
        "plt.title('Applicant Income Graph')\r\n",
        "plt.xlabel('Applicant Income')\r\n",
        "plt.ylabel('Frequency');"
      ],
      "execution_count": 18,
      "outputs": [
        {
          "output_type": "display_data",
          "data": {
            "image/png": "[encoded data removed]",
            "text/plain": [
              "<Figure size 432x288 with 1 Axes>"
            ]
          },
          "metadata": {
            "tags": [],
            "needs_background": "light"
          }
        }
      ]
    },
    {
      "cell_type": "markdown",
      "metadata": {
        "id": "n03GXZIkBFil"
      },
      "source": [
        "So, most the customer have the Income from the range between the 1000 to 25000. This can also be the reason for applying for the home loan. What do you think, this is because of the low income or some other factor that influence the customer for applying application?\r\n",
        "\r\n",
        "Lets plot the graph for the coapplicant income btw **Coapplicant in terms of home loan is the additional person that is involve in the approval of the loan. It increase the chances of accepting the application of the customer.**"
      ]
    },
    {
      "cell_type": "code",
      "metadata": {
        "id": "GnB94tKMIM-s",
        "colab": {
          "base_uri": "https://localhost:8080/",
          "height": 265
        },
        "outputId": "1ec410dc-d2d4-47af-c4d1-bf8f433928ec"
      },
      "source": [
        "train_df.boxplot(column=['CoapplicantIncome']);"
      ],
      "execution_count": 19,
      "outputs": [
        {
          "output_type": "display_data",
          "data": {
            "image/png": "[encoded data removed]",
            "text/plain": [
              "<Figure size 432x288 with 1 Axes>"
            ]
          },
          "metadata": {
            "tags": [],
            "needs_background": "light"
          }
        }
      ]
    },
    {
      "cell_type": "markdown",
      "metadata": {
        "id": "L-Vyx9DOIRrz"
      },
      "source": [
        "So, as we see that most of the value of `CoapplicantIncome` label is treated as outliers means they are the value that are not equal or close to the median of the label or we can say that they lay outside the value where most of the dataset value lie.\r\n",
        "\r\n",
        "Lets find out the median of the `CoapplicantIncome` label and compare it with the other value in the dataset."
      ]
    },
    {
      "cell_type": "code",
      "metadata": {
        "id": "rwuHfA36Jruh",
        "colab": {
          "base_uri": "https://localhost:8080/"
        },
        "outputId": "42f961b3-5473-4c7a-806e-f0d639a15a72"
      },
      "source": [
        "train_df['CoapplicantIncome'].median()"
      ],
      "execution_count": 20,
      "outputs": [
        {
          "output_type": "execute_result",
          "data": {
            "text/plain": [
              "1188.5"
            ]
          },
          "metadata": {
            "tags": []
          },
          "execution_count": 20
        }
      ]
    },
    {
      "cell_type": "code",
      "metadata": {
        "colab": {
          "base_uri": "https://localhost:8080/",
          "height": 320
        },
        "id": "Kg22-fgLqwcd",
        "outputId": "a6205d69-8952-4897-d7c2-f870c482dca1"
      },
      "source": [
        "plt.figure(figsize=(15, 5));\r\n",
        "x=np.arange(0, 614)\r\n",
        "plt.scatter(x, train_df['CoapplicantIncome'])\r\n",
        "plt.axhline(train_df['CoapplicantIncome'].median(), label='median', linestyle='--', color='red');\r\n",
        "plt.legend();"
      ],
      "execution_count": 21,
      "outputs": [
        {
          "output_type": "display_data",
          "data": {
            "image/png": "[encoded data removed]",
            "text/plain": [
              "<Figure size 1080x360 with 1 Axes>"
            ]
          },
          "metadata": {
            "tags": [],
            "needs_background": "light"
          }
        }
      ]
    },
    {
      "cell_type": "markdown",
      "metadata": {
        "id": "MEKLokt2q7FU"
      },
      "source": [
        "As we see now most of the value in the CoapplicantIncome label is treated as outliers because of the above specified reason.\r\n",
        "\r\n",
        "Lets check how much amount customer have applied for the loan and check weather there is any kind of limit or they can apply any amount they want. In this we compare the limit with the:\r\n",
        "* Gender label\r\n",
        "* Education qualification label\r\n",
        "* Self-Employed label\r\n",
        "* Customer that attach the CoapplicantIncome\r\n",
        "\r\n",
        "**Loan Amount is in thousand.**\r\n"
      ]
    },
    {
      "cell_type": "code",
      "metadata": {
        "colab": {
          "base_uri": "https://localhost:8080/",
          "height": 295
        },
        "id": "xyNrn5XF1WoT",
        "outputId": "c502de2e-af97-4c32-b6fb-7de4759614b0"
      },
      "source": [
        "plt.hist(train_df['LoanAmount']);\r\n",
        "plt.grid();\r\n",
        "plt.xlabel('LoanAmount (Thousand)')\r\n",
        "plt.ylabel('Freaqency')\r\n",
        "plt.title('Loan Amount Graph');"
      ],
      "execution_count": 22,
      "outputs": [
        {
          "output_type": "display_data",
          "data": {
            "image/png": "[encoded data removed]",
            "text/plain": [
              "<Figure size 432x288 with 1 Axes>"
            ]
          },
          "metadata": {
            "tags": [],
            "needs_background": "light"
          }
        }
      ]
    },
    {
      "cell_type": "markdown",
      "metadata": {
        "id": "l5lkTRI62Eop"
      },
      "source": [
        "We see that most of the customer had apply for the loan of amount between the 100 to 150 thousand. This could be the limit or it should be the average home rate at the particular country if this company is not work for any customer outside the country.\r\n",
        "\r\n",
        "Lets compare the Loan Amount with the other labels in the dataset."
      ]
    },
    {
      "cell_type": "code",
      "metadata": {
        "id": "M_OcK2hF3Htb"
      },
      "source": [
        "def loan_amount(data, label1, label2):\r\n",
        "  \"\"\"\r\n",
        "  This function create a report for the realtion between the loan amount and the gender\r\n",
        "  \"\"\"\r\n",
        "  amount1 = 0 # initialize for the amount1\r\n",
        "  amount2 = 0 # initialize for the amount2\r\n",
        "  # remove all the 'nan' value from the LoanAmount column\r\n",
        "  new_amount = train_df['LoanAmount'].fillna(train_df['LoanAmount'].median())\r\n",
        "  for i in range(0, len(train_df)):\r\n",
        "    # total the amount1\r\n",
        "    if data[i] == label1:\r\n",
        "      amount1 = amount1 + new_amount[i]\r\n",
        "    # total the amount2\r\n",
        "    elif data[i] == label2:\r\n",
        "      amount2 = amount2 + new_amount[i]\r\n",
        "  # count the number of label in the dataset\r\n",
        "  real_label1, real_label2 = data.value_counts()\r\n",
        "  # find the average\r\n",
        "  amount1 = amount1/real_label1\r\n",
        "  amount2 = amount2/real_label2\r\n",
        "  # return the amount\r\n",
        "  return amount1, amount2"
      ],
      "execution_count": 56,
      "outputs": []
    },
    {
      "cell_type": "code",
      "metadata": {
        "colab": {
          "base_uri": "https://localhost:8080/",
          "height": 295
        },
        "id": "3jagXLhf4zpg",
        "outputId": "575b200b-eb00-45ef-d5c1-65b9da89b68a"
      },
      "source": [
        "male, female = loan_amount(data=train_df['Gender'], \r\n",
        "                           label1='Male', \r\n",
        "                           label2='Female'\r\n",
        "                          )\r\n",
        "loan_amount_gender = {\"Male\": male,\r\n",
        "                      \"Female\": female\r\n",
        "}\r\n",
        "plt.bar(loan_amount_gender.keys(), loan_amount_gender.values())\r\n",
        "plt.xlabel('Gender')\r\n",
        "plt.ylabel('Average Loan Amount in Thousand')\r\n",
        "plt.title('Relation between the Gender and Loan Amount');"
      ],
      "execution_count": 57,
      "outputs": [
        {
          "output_type": "display_data",
          "data": {
            "image/png": "[encoded data removed]",
            "text/plain": [
              "<Figure size 432x288 with 1 Axes>"
            ]
          },
          "metadata": {
            "tags": [],
            "needs_background": "light"
          }
        }
      ]
    },
    {
      "cell_type": "markdown",
      "metadata": {
        "id": "xjZoNxO99zdF"
      },
      "source": [
        "So, from this graph we get to know that `Male` category average loan amount is 148 thousand and `female` average loan amount is 126 thousand.\r\n",
        "\r\n",
        "Lets move forward and find out the relation between the loan amount and the education qualification."
      ]
    },
    {
      "cell_type": "code",
      "metadata": {
        "colab": {
          "base_uri": "https://localhost:8080/",
          "height": 295
        },
        "id": "MGc2gUSHFai8",
        "outputId": "412c6452-a302-48cd-f085-ba37495e0528"
      },
      "source": [
        "graduate, non_graduate = loan_amount(data=train_df['Education'], \r\n",
        "                                     label1='Graduate', \r\n",
        "                                     label2='Not Graduate'\r\n",
        "                                    )\r\n",
        "loan_education = {\"Graduate\": graduate,\r\n",
        "                  \"Not Graduate\": non_graduate\r\n",
        "}\r\n",
        "plt.bar(loan_education.keys(), loan_education.values())\r\n",
        "plt.xlabel('Education')\r\n",
        "plt.ylabel('Average Loan Amount in Thousand')\r\n",
        "plt.title('Relation between the Education and Loan Amount');"
      ],
      "execution_count": 59,
      "outputs": [
        {
          "output_type": "display_data",
          "data": {
            "image/png": "[encoded data removed]",
            "text/plain": [
              "<Figure size 432x288 with 1 Axes>"
            ]
          },
          "metadata": {
            "tags": [],
            "needs_background": "light"
          }
        }
      ]
    },
    {
      "cell_type": "markdown",
      "metadata": {
        "id": "EdGa3Z-eFijn"
      },
      "source": [
        "So most of the Graduate qualification customer apply for the Loan of an amount of ruppees around 153 thousand and the Not Graduate qualification customer apply for the loan amount of ruppees 119 thousand."
      ]
    }
  ]
}